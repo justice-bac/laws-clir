{
 "cells": [
  {
   "cell_type": "code",
   "execution_count": 7,
   "metadata": {},
   "outputs": [],
   "source": [
    "import os\n",
    "from laws_clir.load_xml import get_dict_from_xml\n",
    "\n",
    "en_sections = {}\n",
    "\n",
    "en_acts_dir = os.path.join(os.getcwd(), \"laws-lois-xml\", \"eng\", \"acts\")\n",
    "for file in os.listdir(en_acts_dir)[:5]:\n",
    "    if file.endswith(\".xml\"):\n",
    "        xml_dict = get_dict_from_xml(os.path.join(en_acts_dir, file))\n",
    "        for section in xml_dict[\"all_chunkable_sections\"]:\n",
    "            en_sections[section[\"section_id\"]] = section[\"text\"]"
   ]
  },
  {
   "cell_type": "code",
   "execution_count": 21,
   "metadata": {},
   "outputs": [
    {
     "data": {
      "text/plain": [
       "{'id': 3,\n",
       " 'text': 'Whereas Canada is a State Party to the United Nations Convention on the Rights of Persons with Disabilities and Canada has agreed to take appropriate measures respecting accessibility and to develop and monitor minimum accessibility standards;',\n",
       " 'marginal_note': None,\n",
       " 'in_force_start_date': '2019-06-21',\n",
       " 'last_amended_date': None,\n",
       " 'internal_refs': [],\n",
       " 'external_refs': [],\n",
       " 'lims_id': '1153386',\n",
       " 'section_id': 'A-0.6_eng_preamble_provision_3',\n",
       " 'parent_id': 'A-0.6_eng_preamble',\n",
       " 'heading_str': '',\n",
       " 'section_str': 'Preamble provision 3',\n",
       " 'doc_id': 'A-0.6_eng',\n",
       " 'doc_title': 'Accessible Canada Act',\n",
       " 'index': 4}"
      ]
     },
     "execution_count": 21,
     "metadata": {},
     "output_type": "execute_result"
    }
   ],
   "source": []
  }
 ],
 "metadata": {
  "kernelspec": {
   "display_name": "Python 3",
   "language": "python",
   "name": "python3"
  },
  "language_info": {
   "codemirror_mode": {
    "name": "ipython",
    "version": 3
   },
   "file_extension": ".py",
   "mimetype": "text/x-python",
   "name": "python",
   "nbconvert_exporter": "python",
   "pygments_lexer": "ipython3",
   "version": "3.11.6"
  }
 },
 "nbformat": 4,
 "nbformat_minor": 2
}
