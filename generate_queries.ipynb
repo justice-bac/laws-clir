{
 "cells": [
  {
   "cell_type": "markdown",
   "metadata": {},
   "source": [
    "# Step 2: Generate queries\n",
    "\n",
    "From Step 1, we now have a set of EN/FR pairs that we can use for IR and CLIR evaluations.\n",
    "\n",
    "But first, we need queries. Particularly, we want natural language queries since this is the intended user interaction."
   ]
  },
  {
   "cell_type": "code",
   "execution_count": 3,
   "metadata": {},
   "outputs": [],
   "source": [
    "import pandas as pd\n",
    "import numpy as np\n",
    "\n",
    "df = pd.read_csv('laws_pairs.csv.zip').fillna(\"\")"
   ]
  },
  {
   "cell_type": "code",
   "execution_count": 5,
   "metadata": {},
   "outputs": [
    {
     "data": {
      "text/plain": [
       "Index(['section_id', 'doc_id', 'type', 'doc_title_eng', 'doc_title_fra',\n",
       "       'section_str_eng', 'section_str_fra', 'heading_str_eng',\n",
       "       'heading_str_fra', 'text_eng', 'text_fra', 'char_cnt_eng',\n",
       "       'char_cnt_fra', 'token_cnt_eng', 'token_cnt_fra'],\n",
       "      dtype='object')"
      ]
     },
     "execution_count": 5,
     "metadata": {},
     "output_type": "execute_result"
    }
   ],
   "source": [
    "df.columns"
   ]
  },
  {
   "cell_type": "code",
   "execution_count": 20,
   "metadata": {},
   "outputs": [
    {
     "data": {
      "text/html": [
       "<div>\n",
       "<style scoped>\n",
       "    .dataframe tbody tr th:only-of-type {\n",
       "        vertical-align: middle;\n",
       "    }\n",
       "\n",
       "    .dataframe tbody tr th {\n",
       "        vertical-align: top;\n",
       "    }\n",
       "\n",
       "    .dataframe thead th {\n",
       "        text-align: right;\n",
       "    }\n",
       "</style>\n",
       "<table border=\"1\" class=\"dataframe\">\n",
       "  <thead>\n",
       "    <tr style=\"text-align: right;\">\n",
       "      <th></th>\n",
       "      <th>text_combined_eng</th>\n",
       "      <th>text_combined_fra</th>\n",
       "    </tr>\n",
       "  </thead>\n",
       "  <tbody>\n",
       "    <tr>\n",
       "      <th>32470</th>\n",
       "      <td>Telecommunications Act\\n &gt; Investigation and E...</td>\n",
       "      <td>Loi sur les télécommunications\\n &gt; Enquêtes et...</td>\n",
       "    </tr>\n",
       "    <tr>\n",
       "      <th>58177</th>\n",
       "      <td>Canada Occupational Health and Safety Regulati...</td>\n",
       "      <td>Règlement canadien sur la santé et la sécurité...</td>\n",
       "    </tr>\n",
       "    <tr>\n",
       "      <th>13221</th>\n",
       "      <td>Excise Tax Act\\n &gt; Air Transportation Tax &gt; Pe...</td>\n",
       "      <td>Loi sur la taxe d’accise\\n &gt; Taxe de transport...</td>\n",
       "    </tr>\n",
       "    <tr>\n",
       "      <th>50300</th>\n",
       "      <td>Apprentice Loans Regulations\\n &gt; Removal of Re...</td>\n",
       "      <td>Règlement sur les prêts aux apprentis\\n &gt; Levé...</td>\n",
       "    </tr>\n",
       "    <tr>\n",
       "      <th>28950</th>\n",
       "      <td>Pension Act\\n &gt; Pensions &gt; Pensions for Death\\...</td>\n",
       "      <td>Loi sur les pensions\\n &gt; Pensions &gt; Pensions p...</td>\n",
       "    </tr>\n",
       "  </tbody>\n",
       "</table>\n",
       "</div>"
      ],
      "text/plain": [
       "                                       text_combined_eng  \\\n",
       "32470  Telecommunications Act\\n > Investigation and E...   \n",
       "58177  Canada Occupational Health and Safety Regulati...   \n",
       "13221  Excise Tax Act\\n > Air Transportation Tax > Pe...   \n",
       "50300  Apprentice Loans Regulations\\n > Removal of Re...   \n",
       "28950  Pension Act\\n > Pensions > Pensions for Death\\...   \n",
       "\n",
       "                                       text_combined_fra  \n",
       "32470  Loi sur les télécommunications\\n > Enquêtes et...  \n",
       "58177  Règlement canadien sur la santé et la sécurité...  \n",
       "13221  Loi sur la taxe d’accise\\n > Taxe de transport...  \n",
       "50300  Règlement sur les prêts aux apprentis\\n > Levé...  \n",
       "28950  Loi sur les pensions\\n > Pensions > Pensions p...  "
      ]
     },
     "execution_count": 20,
     "metadata": {},
     "output_type": "execute_result"
    }
   ],
   "source": [
    "def combine_text(row):\n",
    "    nl = \"\\n\"\n",
    "    return (\n",
    "        f\"{row['doc_title_eng']}\\n\"\n",
    "        f\"{' > ' + row['heading_str_eng'] + nl if row['heading_str_eng'] else ''}\"\n",
    "        f\"{row['section_str_eng']}\\n\"\n",
    "        f\"---\\n{row['text_eng']}\"\n",
    "    ), (\n",
    "        f\"{row['doc_title_fra']}\\n\"\n",
    "        f\"{' > ' + row['heading_str_fra'] + nl if row['heading_str_fra'] else ''}\"\n",
    "        f\"{row['section_str_fra']}\\n\"\n",
    "        f\"---\\n{row['text_fra']}\"\n",
    "    )\n",
    "\n",
    "combined_texts = df.apply(combine_text, axis=1)\n",
    "df[\"text_combined_eng\"] = [x[0] for x in combined_texts]\n",
    "df[\"text_combined_fra\"] = [x[1] for x in combined_texts]\n",
    "\n",
    "df[['text_combined_eng', 'text_combined_fra']].sample(5)"
   ]
  },
  {
   "cell_type": "code",
   "execution_count": 35,
   "metadata": {},
   "outputs": [],
   "source": [
    "np.random.seed(42)\n",
    "small_df = df.sample(1000)"
   ]
  },
  {
   "cell_type": "markdown",
   "metadata": {},
   "source": [
    "## Question generation with LlamaIndex"
   ]
  },
  {
   "cell_type": "code",
   "execution_count": 33,
   "metadata": {},
   "outputs": [],
   "source": [
    "import os\n",
    "import textwrap as tr\n",
    "\n",
    "import nest_asyncio\n",
    "from azure.identity import DefaultAzureCredential, ManagedIdentityCredential\n",
    "from azure.keyvault.secrets import SecretClient\n",
    "from dotenv import load_dotenv\n",
    "from llama_index import ServiceContext, set_global_service_context\n",
    "from llama_index.embeddings import AzureOpenAIEmbedding\n",
    "from llama_index.llms import AzureOpenAI\n",
    "from llama_index.prompts import ChatMessage, ChatPromptTemplate, MessageRole\n",
    "from tqdm import tqdm\n",
    "\n",
    "# This is a hack to get some things to work in Jupyter Notebooks\n",
    "nest_asyncio.apply()\n",
    "\n",
    "def pwrap(text):\n",
    "    print(tr.fill(str(text), width=80))\n",
    "\n",
    "# Load environment variables from .env file\n",
    "try:\n",
    "    load_dotenv(dotenv_path=\".env\")\n",
    "except:\n",
    "    pass\n",
    "\n",
    "# If we're running on Azure, use the Managed Identity to get the secrets\n",
    "if os.environ.get(\"CREDENTIAL_TYPE\").lower() == \"managed\":\n",
    "    credential = ManagedIdentityCredential()\n",
    "else:\n",
    "    credential = DefaultAzureCredential()\n",
    "\n",
    "# Login to KeyVault using Azure credentials\n",
    "client = SecretClient(\n",
    "    vault_url=os.environ.get(\"AZURE_KEYVAULT_URL\"), credential=credential\n",
    ")\n",
    "\n",
    "OPENAI_API_BASE = os.environ.get(\"AZURE_OPENAI_ENDPOINT\")\n",
    "OPENAI_API_VERSION = os.environ.get(\"AZURE_OPENAI_VERSION\")\n",
    "OPENAI_API_KEY = client.get_secret(\"OPENAI-SERVICE-KEY\").value\n",
    "\n",
    "api_key = OPENAI_API_KEY\n",
    "azure_endpoint = OPENAI_API_BASE\n",
    "api_version = OPENAI_API_VERSION\n",
    "\n",
    "llm = AzureOpenAI(\n",
    "    model=\"gpt-35-turbo\",\n",
    "    deployment_name=\"gpt-35-turbo-unfiltered\",\n",
    "    api_key=api_key,\n",
    "    azure_endpoint=azure_endpoint,\n",
    "    api_version=api_version,\n",
    "    temperature=0.1,\n",
    ")\n",
    "\n",
    "embed_model = AzureOpenAIEmbedding(\n",
    "    model=\"text-embedding-ada-002\",\n",
    "    deployment_name=\"text-embedding-ada-002\",\n",
    "    api_key=api_key,\n",
    "    azure_endpoint=azure_endpoint,\n",
    "    api_version=api_version,\n",
    ")\n",
    "\n",
    "\n",
    "service_context = ServiceContext.from_defaults(\n",
    "    llm=llm,\n",
    "    embed_model=embed_model,\n",
    ")\n",
    "\n",
    "llm4 = AzureOpenAI(\n",
    "    model=\"gpt-4\",\n",
    "    deployment_name=\"gpt-4\",\n",
    "    api_key=api_key,\n",
    "    azure_endpoint=azure_endpoint,\n",
    "    api_version=api_version,\n",
    "    temperature=0,\n",
    ")\n",
    "\n",
    "service_context_gpt4 = ServiceContext.from_defaults(\n",
    "    llm=llm4,\n",
    "    embed_model=embed_model,\n",
    ")\n",
    "\n",
    "set_global_service_context(service_context)\n",
    "\n",
    "\n",
    "QUESTION_GEN_USER_TMPL = (\n",
    "    \"Context information is below.\\n\"\n",
    "    \"---------------------\\n\"\n",
    "    \"{context_str}\\n\"\n",
    "    \"---------------------\\n\"\n",
    "    \"Given the context information and not prior knowledge, \"\n",
    "    \"generate the relevant question.\"\n",
    ")\n",
    "\n",
    "QUESTION_GEN_SYS_TMPL = \"\"\"\\\n",
    "You are labelling an cross-language information retrieval (CLIR) dataset.\n",
    "You are given a chunk of context information, which will be in {language}.\n",
    "Generate a question, in Canadian {language}, that relates to the context information.\n",
    "The questions will be used to evaluate the quality of the information retrieval system.\n",
    "Restrict the question to the context information provided.\\\n",
    "\"\"\"\n",
    "\n",
    "question_gen_template = ChatPromptTemplate(\n",
    "    message_templates=[\n",
    "        ChatMessage(role=MessageRole.SYSTEM, content=QUESTION_GEN_SYS_TMPL),\n",
    "        ChatMessage(role=MessageRole.USER, content=QUESTION_GEN_USER_TMPL),\n",
    "    ]\n",
    ")\n",
    "\n",
    "def generate_queries(texts, language=\"english\"):\n",
    "    queries = []\n",
    "    for i, text in enumerate(tqdm(texts)):\n",
    "        fmt_messages = question_gen_template.format_messages(\n",
    "            context_str=text,\n",
    "            language=language,\n",
    "        )\n",
    "        chat_response = llm.chat(fmt_messages)\n",
    "        queries.append(chat_response.message.content)\n",
    "        tqdm.write(chat_response.message.content)\n",
    "        # Save every 10 iterations\n",
    "        if i % 10 == 0:\n",
    "            with open(\"queries.txt\", \"w\") as f:\n",
    "                f.write(\"\\n\".join(queries))\n",
    "\n",
    "    return queries"
   ]
  },
  {
   "cell_type": "code",
   "execution_count": 34,
   "metadata": {},
   "outputs": [
    {
     "name": "stderr",
     "output_type": "stream",
     "text": [
      "  5%|▌         | 1/20 [00:01<00:23,  1.25s/it]"
     ]
    },
    {
     "name": "stdout",
     "output_type": "stream",
     "text": [
      "What are the conditions for a judge to make an election to become a supernumerary judge in a provincial superior court?\n"
     ]
    },
    {
     "name": "stderr",
     "output_type": "stream",
     "text": [
      " 10%|█         | 2/20 [00:01<00:16,  1.07it/s]"
     ]
    },
    {
     "name": "stdout",
     "output_type": "stream",
     "text": [
      "What happens to ongoing applications under section 66 of the former Act when the Budget Implementation Act, 2021, No. 1 comes into force?\n"
     ]
    },
    {
     "name": "stderr",
     "output_type": "stream",
     "text": [
      " 15%|█▌        | 3/20 [00:02<00:13,  1.25it/s]"
     ]
    },
    {
     "name": "stdout",
     "output_type": "stream",
     "text": [
      "What criteria must be satisfied for an expungement order to be granted for a conviction related to procuring a woman or female person's miscarriage?\n"
     ]
    },
    {
     "name": "stderr",
     "output_type": "stream",
     "text": [
      " 20%|██        | 4/20 [00:03<00:10,  1.55it/s]"
     ]
    },
    {
     "name": "stdout",
     "output_type": "stream",
     "text": [
      "What are the minimum maintenance standards for cottages and accessory buildings in the National Parks of Canada?\n"
     ]
    },
    {
     "name": "stderr",
     "output_type": "stream",
     "text": [
      " 25%|██▌       | 5/20 [00:03<00:10,  1.40it/s]"
     ]
    },
    {
     "name": "stdout",
     "output_type": "stream",
     "text": [
      "What factors are considered in determining whether the requirements of subsection 5.1(2) of the Act have been met in respect of the adoption of a person referred to in section 7 of the Regulations?\n"
     ]
    },
    {
     "name": "stderr",
     "output_type": "stream",
     "text": [
      " 30%|███       | 6/20 [00:04<00:09,  1.47it/s]"
     ]
    },
    {
     "name": "stdout",
     "output_type": "stream",
     "text": [
      "What types of positions can the Department of National Defence recruit for under the Department of National Defence Terms Under Three Months Regulations, 1992?\n"
     ]
    },
    {
     "name": "stderr",
     "output_type": "stream",
     "text": [
      " 35%|███▌      | 7/20 [00:05<00:08,  1.48it/s]"
     ]
    },
    {
     "name": "stdout",
     "output_type": "stream",
     "text": [
      "What measures should be taken by certain professionals and entities to determine if a person they have a business relationship with is a politically exposed individual?\n"
     ]
    },
    {
     "name": "stderr",
     "output_type": "stream",
     "text": [
      " 40%|████      | 8/20 [00:05<00:07,  1.70it/s]"
     ]
    },
    {
     "name": "stdout",
     "output_type": "stream",
     "text": [
      "What are the requirements for a register that incorporates an electronic display?\n"
     ]
    },
    {
     "name": "stderr",
     "output_type": "stream",
     "text": [
      " 45%|████▌     | 9/20 [00:06<00:06,  1.77it/s]"
     ]
    },
    {
     "name": "stdout",
     "output_type": "stream",
     "text": [
      "What happens to the Canadian Environmental Assessment Act if a project is referred to a review panel under subsection 29(1) of that Act?\n"
     ]
    },
    {
     "name": "stderr",
     "output_type": "stream",
     "text": [
      " 50%|█████     | 10/20 [00:06<00:05,  1.73it/s]"
     ]
    },
    {
     "name": "stdout",
     "output_type": "stream",
     "text": [
      "What is the purpose of the General Rules under Section 209 of the Bankruptcy and Insolvency Act?\n"
     ]
    },
    {
     "name": "stderr",
     "output_type": "stream",
     "text": [
      " 55%|█████▌    | 11/20 [00:07<00:07,  1.28it/s]"
     ]
    },
    {
     "name": "stdout",
     "output_type": "stream",
     "text": [
      "What are the percentages of the fee or charge that a satellite operator or a ground station operator must pay to the Minister for receiving satellite remote sensing imagery, tape or service described in Column I of items 6, 7, 15, and 16 of the schedule?\n"
     ]
    },
    {
     "name": "stderr",
     "output_type": "stream",
     "text": [
      " 60%|██████    | 12/20 [00:08<00:06,  1.31it/s]"
     ]
    },
    {
     "name": "stdout",
     "output_type": "stream",
     "text": [
      "What are the eligibility criteria for a Canadian offender who committed a murder as a young person and is serving an adult sentence under the International Transfer of Offenders Act?\n"
     ]
    },
    {
     "name": "stderr",
     "output_type": "stream",
     "text": [
      " 65%|██████▌   | 13/20 [00:09<00:05,  1.36it/s]"
     ]
    },
    {
     "name": "stdout",
     "output_type": "stream",
     "text": [
      "What is the purpose of deleting the name of a distinct breed or evolving breed from an association's articles of incorporation under the Animal Pedigree Act?\n"
     ]
    },
    {
     "name": "stderr",
     "output_type": "stream",
     "text": [
      " 70%|███████   | 14/20 [00:09<00:04,  1.45it/s]"
     ]
    },
    {
     "name": "stdout",
     "output_type": "stream",
     "text": [
      "What happens if a commercial operation or eligible person is not entitled to a contribution made under the Industrial and Regional Development Act?\n"
     ]
    },
    {
     "name": "stderr",
     "output_type": "stream",
     "text": [
      " 75%|███████▌  | 15/20 [00:10<00:02,  1.76it/s]"
     ]
    },
    {
     "name": "stdout",
     "output_type": "stream",
     "text": [
      "What is the purpose of establishing park reserves under the Canada National Parks Act?\n"
     ]
    },
    {
     "name": "stderr",
     "output_type": "stream",
     "text": [
      " 80%|████████  | 16/20 [00:10<00:02,  1.72it/s]"
     ]
    },
    {
     "name": "stdout",
     "output_type": "stream",
     "text": [
      "What is the purpose of the Minister's order in relation to the operation of remote sensing space systems?\n"
     ]
    },
    {
     "name": "stderr",
     "output_type": "stream",
     "text": [
      " 85%|████████▌ | 17/20 [00:11<00:01,  1.70it/s]"
     ]
    },
    {
     "name": "stdout",
     "output_type": "stream",
     "text": [
      "What are the purposes of the pre-arbitration meeting according to subsection 14(1) of the Rules of Procedure for Rail Level of Service Arbitration?\n"
     ]
    },
    {
     "name": "stderr",
     "output_type": "stream",
     "text": [
      " 90%|█████████ | 18/20 [00:11<00:01,  1.70it/s]"
     ]
    },
    {
     "name": "stdout",
     "output_type": "stream",
     "text": [
      "What is the requirement for the leader of a political party regarding the provision of personal information and internet address to the Chief Electoral Officer?\n"
     ]
    },
    {
     "name": "stderr",
     "output_type": "stream",
     "text": [
      " 95%|█████████▌| 19/20 [00:12<00:00,  1.52it/s]"
     ]
    },
    {
     "name": "stdout",
     "output_type": "stream",
     "text": [
      "What fees are imposed on a vessel if the marine safety inspector requires more than 3.75 hours to assess a tank prewash operation exemption request?\n"
     ]
    },
    {
     "name": "stderr",
     "output_type": "stream",
     "text": [
      "100%|██████████| 20/20 [00:13<00:00,  1.49it/s]"
     ]
    },
    {
     "name": "stdout",
     "output_type": "stream",
     "text": [
      "What information should a person or entity obtain and record if they determine that an account will be used by or on behalf of a third party?\n"
     ]
    },
    {
     "name": "stderr",
     "output_type": "stream",
     "text": [
      "\n"
     ]
    }
   ],
   "source": [
    "text_combined_eng_queries = generate_queries(small_df[\"text_combined_eng\"], \"English\")"
   ]
  },
  {
   "cell_type": "code",
   "execution_count": null,
   "metadata": {},
   "outputs": [],
   "source": []
  }
 ],
 "metadata": {
  "kernelspec": {
   "display_name": "Python 3",
   "language": "python",
   "name": "python3"
  },
  "language_info": {
   "codemirror_mode": {
    "name": "ipython",
    "version": 3
   },
   "file_extension": ".py",
   "mimetype": "text/x-python",
   "name": "python",
   "nbconvert_exporter": "python",
   "pygments_lexer": "ipython3",
   "version": "3.11.6"
  }
 },
 "nbformat": 4,
 "nbformat_minor": 2
}
